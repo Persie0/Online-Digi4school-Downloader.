{
  "nbformat": 4,
  "nbformat_minor": 0,
  "metadata": {
    "colab": {
      "provenance": [],
      "authorship_tag": "ABX9TyOoVqgi7N1R7nhX4o4Hc2IH",
      "include_colab_link": true
    },
    "kernelspec": {
      "name": "python3",
      "display_name": "Python 3"
    },
    "language_info": {
      "name": "python"
    }
  },
  "cells": [
    {
      "cell_type": "markdown",
      "metadata": {
        "id": "view-in-github",
        "colab_type": "text"
      },
      "source": [
        "<a href=\"https://colab.research.google.com/github/Persie0/Online-Digi4school-PDF-Downloader/blob/main/Digi4school.ipynb\" target=\"_parent\"><img src=\"https://colab.research.google.com/assets/colab-badge.svg\" alt=\"Open In Colab\"/></a>"
      ]
    },
    {
      "cell_type": "markdown",
      "source": [
        "# Gib unten alles ein und drücke Strg+F9 oder chronologisch immer auf den Button mit dem Pfeil\n",
        "(Maus über den Code plazieren, dann erscheint Button)"
      ],
      "metadata": {
        "id": "GJxOBawvHMC8"
      }
    },
    {
      "cell_type": "code",
      "source": [
        "from google.colab import drive\n",
        "\n",
        "drive.mount('/content/drive')"
      ],
      "metadata": {
        "id": "Cw_CXMsW27DC"
      },
      "execution_count": null,
      "outputs": []
    },
    {
      "cell_type": "code",
      "execution_count": null,
      "metadata": {
        "id": "njNsJe3uVi2R"
      },
      "outputs": [],
      "source": [
        "!pip install --upgrade pip\n",
        "!pip install PyPDF2\n",
        "!pip install svglib\n",
        "!pip install reportlab\n",
        "\n"
      ]
    },
    {
      "cell_type": "code",
      "source": [
        "#@title PDF Download\n",
        "#@markdown zB https://a.digi4school.at/ebook/6320/\n",
        "ebook_url = \"\" #@param {type:\"string\"}\n",
        "#@markdown und\n",
        "\n",
        "#email = \"\" #@param {type:\"string\"}\n",
        "#passwort = \"\" #@param {type:\"string\"}\n",
        "#@markdown Cookies finden: https://github.com/Persie0/Online-Digi4school-PDF-Downloader/raw/main/2022-12-10_13-20.png im browser gewünschtes buch öffnen, dann Rechtsklick und Element untersuchen - anschließend unter Webspeicher \"Cookies\" suchen, anschließend ohne Anführungszeichen eingeben zB 22365898844%2c0%2c0%2c167688940033%20{226%201670641233%208989870A0DC07062E5F6AFFDS86561090B3126830}\n",
        "digi4s_cookie = \"\" #@param {type:\"string\"}\n",
        "digi4b_cookie = \"\" #@param {type:\"string\"}\n",
        "\n",
        "from svglib.svglib import svg2rlg\n",
        "from reportlab.graphics import renderPDF, renderPM\n",
        "from svglib.svglib import SvgRenderer\n",
        "from reportlab.graphics import renderPM\n",
        "from bs4 import BeautifulSoup\n",
        "import requests\n",
        "from google.colab import output\n",
        "import sys\n",
        "import os\n",
        "import time\n",
        "from PyPDF2 import PdfFileMerger\n",
        "\n",
        "# Replace this with the cookie you want to send with the request\n",
        "# The cookie should be a dictionary containing the cookie's name and value\n",
        "cookie = {\"digi4s\": digi4s_cookie,\"digi4b\": digi4b_cookie}\n",
        "headers = {\n",
        "    \"user-agent\": \"Mozilla/5.0 (Windows NT 10.0; Win64; x64) AppleWebKit/537.36 (KHTML, like Gecko) Chrome/83.0.4103.61 Safari/537.36\"\n",
        "}\n",
        "\n",
        "\"\"\"\n",
        "# Check the response status code to make sure the login was successful\n",
        "if email!=\"\" and passwort!=\"\":\n",
        "  # Set the URL of the login page\n",
        "  url = \"https://digi4school.at/br/xhr/login\"\n",
        "\n",
        "\n",
        "  # Set the login credentials\n",
        "  payload = {\n",
        "      \"email\": email,\n",
        "      \"password\": passwort\n",
        "  }\n",
        "\n",
        "  # Send a POST request to the login page with the credentials\n",
        "  response = requests.post(url, data=payload, headers=headers)\n",
        "\n",
        "  if response.status_code == 200:\n",
        "      print(\"Login successful!\")\n",
        "      # Get the cookies from the response\n",
        "      global cookies\n",
        "      cookies = response.cookies\n",
        "  else:\n",
        "      print(\"Login failed.\")\n",
        "\"\"\"\n",
        "\n",
        "# Replace this with the names of the SVG images you want to convert\n",
        "image_names = []\n",
        "\n",
        "\n",
        "response = requests.get(ebook_url, cookies=cookie)\n",
        "soup = BeautifulSoup(response.text, 'html.parser')\n",
        "title_tag = soup.find('meta', {'name': 'title'})\n",
        "title = title_tag['content']\n",
        "for page in range(50000):\n",
        "  strpage=str(page+1)\n",
        "  # Replace this with the URL of the website you want to scrape\n",
        "  url = ebook_url+strpage+\"/\"+strpage+\".svg\"\n",
        "\n",
        "  # Send the request and get the page as a string\n",
        "  response = requests.get(url, cookies=cookie)\n",
        "  output.clear()\n",
        "  print(title,\"\\nAm Downloaden auf Seite \"+strpage)\n",
        "  time.sleep(1.5)\n",
        "\n",
        "\n",
        "  # Check the response status code to make sure the request was successful\n",
        "  if response.status_code == 200:\n",
        "      image_names.append(strpage+\".svg\")\n",
        "      # Save the SVG image file to your computer\n",
        "      with open(strpage+\".svg\", \"wb\") as f:\n",
        "          f.write(response.content)\n",
        "  else:\n",
        "    strpage=str(page+1)\n",
        "  # Replace this with the URL of the website you want to scrape\n",
        "    url = ebook_url+strpage+\".svg\"\n",
        "\n",
        "  # Send the request and get the page as a string\n",
        "    response = requests.get(url, cookies=cookie)\n",
        "    time.sleep(2)\n",
        "\n",
        "  # Check the response status code to make sure the request was successful\n",
        "    if response.status_code == 200:\n",
        "        image_names.append(strpage+\".svg\")\n",
        "        # Save the SVG image file to your computer\n",
        "        with open(strpage+\".svg\", \"wb\") as f:\n",
        "            f.write(response.content)\n",
        "    else:\n",
        "      print(\"Am Konvertieren\")\n",
        "      break\n",
        "      \n",
        "\n",
        "#create png from svg\n",
        "for image in image_names:\n",
        "  output.clear()\n",
        "  print(title,\"\\nKonvertiere \"+image)\n",
        "  drawing = svg2rlg(image)\n",
        "  renderPDF.drawToFile(drawing, image.replace(\".svg\",\".pdf\"))\n",
        "\n",
        "# Create an instance of the PdfFileMerger class\n",
        "merger = PdfFileMerger()\n",
        "\n",
        "# Iterate over the PDF files\n",
        "for image in image_names:\n",
        "  # Open the PDF file\n",
        "  output.clear()\n",
        "  print(title,\"\\nAm PDF erstellen: \"+image)\n",
        "  with open(image.replace(\".svg\",\".pdf\"), \"rb\") as f:\n",
        "    # Add the PDF file to the merger\n",
        "    merger.append(f)\n",
        "\n",
        "# Save the merged PDF file\n",
        "with open(\"/content/drive/MyDrive/\"+title+\".pdf\", \"wb\") as f:\n",
        "  merger.write(f)\n",
        "\n",
        "#delete png\n",
        "for image in image_names:\n",
        "  os.remove(image.replace(\".svg\",\".pdf\"))\n",
        "\n",
        "#delete svg\n",
        "for image in image_names:\n",
        "  os.remove(image)\n",
        "\n",
        "print(\"Fertig!!!\")\n",
        "\n",
        "print(\"auf deinem Drive als: \"+title+\".pdf\")"
      ],
      "metadata": {
        "id": "viHZXuf2VkRT",
        "cellView": "form"
      },
      "execution_count": null,
      "outputs": []
    }
  ]
}