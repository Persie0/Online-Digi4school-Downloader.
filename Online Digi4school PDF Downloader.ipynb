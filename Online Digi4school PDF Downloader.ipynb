{
  "nbformat": 4,
  "nbformat_minor": 0,
  "metadata": {
    "colab": {
      "provenance": [],
      "authorship_tag": "ABX9TyPUgcwI/3impZmpOzBMas1H",
      "include_colab_link": true
    },
    "kernelspec": {
      "name": "python3",
      "display_name": "Python 3"
    },
    "language_info": {
      "name": "python"
    }
  },
  "cells": [
    {
      "cell_type": "markdown",
      "metadata": {
        "id": "view-in-github",
        "colab_type": "text"
      },
      "source": [
        "<a href=\"https://colab.research.google.com/github/Persie0/Online-Digi4school-PDF-Downloader/blob/main/Online%20Digi4school%20PDF%20Downloader.ipynb\" target=\"_parent\"><img src=\"https://colab.research.google.com/assets/colab-badge.svg\" alt=\"Open In Colab\"/></a>"
      ]
    },
    {
      "cell_type": "code",
      "source": [
        "from google.colab import drive\n",
        "\n",
        "drive.mount('/content/drive')"
      ],
      "metadata": {
        "colab": {
          "base_uri": "https://localhost:8080/"
        },
        "id": "Cw_CXMsW27DC",
        "outputId": "dbccc746-c8ad-41b1-d1df-c428aa836789"
      },
      "execution_count": null,
      "outputs": [
        {
          "output_type": "stream",
          "name": "stdout",
          "text": [
            "Mounted at /content/drive\n"
          ]
        }
      ]
    },
    {
      "cell_type": "code",
      "execution_count": null,
      "metadata": {
        "colab": {
          "base_uri": "https://localhost:8080/"
        },
        "id": "njNsJe3uVi2R",
        "outputId": "46a2c69a-2066-44c3-db5f-d0ca70f19c19"
      },
      "outputs": [
        {
          "output_type": "stream",
          "name": "stdout",
          "text": [
            "Looking in indexes: https://pypi.org/simple, https://us-python.pkg.dev/colab-wheels/public/simple/\n",
            "Requirement already satisfied: pip in /usr/local/lib/python3.8/dist-packages (22.3.1)\n",
            "\u001b[33mWARNING: Running pip as the 'root' user can result in broken permissions and conflicting behaviour with the system package manager. It is recommended to use a virtual environment instead: https://pip.pypa.io/warnings/venv\u001b[0m\u001b[33m\n",
            "\u001b[0mLooking in indexes: https://pypi.org/simple, https://us-python.pkg.dev/colab-wheels/public/simple/\n",
            "Collecting PyPDF2\n",
            "  Downloading pypdf2-2.11.2-py3-none-any.whl (220 kB)\n",
            "\u001b[2K     \u001b[90m━━━━━━━━━━━━━━━━━━━━━━━━━━━━━━━━━━━━━━\u001b[0m \u001b[32m220.6/220.6 kB\u001b[0m \u001b[31m13.6 MB/s\u001b[0m eta \u001b[36m0:00:00\u001b[0m\n",
            "\u001b[?25hRequirement already satisfied: typing_extensions>=3.10.0.0 in /usr/local/lib/python3.8/dist-packages (from PyPDF2) (4.4.0)\n",
            "Installing collected packages: PyPDF2\n",
            "Successfully installed PyPDF2-2.11.2\n",
            "\u001b[33mWARNING: Running pip as the 'root' user can result in broken permissions and conflicting behaviour with the system package manager. It is recommended to use a virtual environment instead: https://pip.pypa.io/warnings/venv\u001b[0m\u001b[33m\n",
            "\u001b[0mLooking in indexes: https://pypi.org/simple, https://us-python.pkg.dev/colab-wheels/public/simple/\n",
            "Requirement already satisfied: svglib in /usr/local/lib/python3.8/dist-packages (1.4.1)\n",
            "Requirement already satisfied: cssselect2>=0.2.0 in /usr/local/lib/python3.8/dist-packages (from svglib) (0.7.0)\n",
            "Requirement already satisfied: tinycss2>=0.6.0 in /usr/local/lib/python3.8/dist-packages (from svglib) (1.2.1)\n",
            "Requirement already satisfied: lxml in /usr/local/lib/python3.8/dist-packages (from svglib) (4.9.1)\n",
            "Requirement already satisfied: reportlab in /usr/local/lib/python3.8/dist-packages (from svglib) (3.6.12)\n",
            "Requirement already satisfied: webencodings in /usr/local/lib/python3.8/dist-packages (from cssselect2>=0.2.0->svglib) (0.5.1)\n",
            "Requirement already satisfied: pillow>=9.0.0 in /usr/local/lib/python3.8/dist-packages (from reportlab->svglib) (9.3.0)\n",
            "\u001b[33mWARNING: Running pip as the 'root' user can result in broken permissions and conflicting behaviour with the system package manager. It is recommended to use a virtual environment instead: https://pip.pypa.io/warnings/venv\u001b[0m\u001b[33m\n",
            "\u001b[0mLooking in indexes: https://pypi.org/simple, https://us-python.pkg.dev/colab-wheels/public/simple/\n",
            "Requirement already satisfied: reportlab in /usr/local/lib/python3.8/dist-packages (3.6.12)\n",
            "Requirement already satisfied: pillow>=9.0.0 in /usr/local/lib/python3.8/dist-packages (from reportlab) (9.3.0)\n",
            "\u001b[33mWARNING: Running pip as the 'root' user can result in broken permissions and conflicting behaviour with the system package manager. It is recommended to use a virtual environment instead: https://pip.pypa.io/warnings/venv\u001b[0m\u001b[33m\n",
            "\u001b[0m"
          ]
        }
      ],
      "source": [
        "!pip install --upgrade pip\n",
        "!pip install PyPDF2\n",
        "!pip install svglib\n",
        "!pip install reportlab\n",
        "\n"
      ]
    },
    {
      "cell_type": "code",
      "source": [
        "#@title Default title text\n",
        "#@markdown zB https://a.digi4school.at/ebook/6320/\n",
        "ebook_url = \"https://a.digi4school.at/ebook/672/\" #@param {type:\"string\"}\n",
        "#@markdown und\n",
        "\n",
        "#email = \"\" #@param {type:\"string\"}\n",
        "#passwort = \"\" #@param {type:\"string\"}\n",
        "#@markdown Cookies finden: im browser gewünschtes buch öffnen, dann Rechtsklick und Element untersuchen - anschließend unter Webspeicher \"Cookies suchen\"\n",
        "digi4s_cookie = \"138357%2c1670637848%2c1670639387%20{584%200%205F3CCD5F9284813E2FD010084EE485A45BED96DA}\" #@param {type:\"string\"}\n",
        "digi4b_cookie = \"2278358846%2c672%2c105cseedbj3u%2c138357%20{201%201670725788%20975F6C5941348BDF59BC77B5B1EC9CC9520629C3}\" #@param {type:\"string\"}\n",
        "\n",
        "from svglib.svglib import svg2rlg\n",
        "from reportlab.graphics import renderPDF, renderPM\n",
        "from svglib.svglib import SvgRenderer\n",
        "from reportlab.graphics import renderPM\n",
        "from bs4 import BeautifulSoup\n",
        "import requests\n",
        "from google.colab import output\n",
        "import sys\n",
        "import os\n",
        "import time\n",
        "from PyPDF2 import PdfFileMerger\n",
        "\n",
        "# Replace this with the cookie you want to send with the request\n",
        "# The cookie should be a dictionary containing the cookie's name and value\n",
        "cookie = {\"digi4s\": digi4s_cookie,\"digi4b\": digi4b_cookie}\n",
        "headers = {\n",
        "    \"user-agent\": \"Mozilla/5.0 (Windows NT 10.0; Win64; x64) AppleWebKit/537.36 (KHTML, like Gecko) Chrome/83.0.4103.61 Safari/537.36\"\n",
        "}\n",
        "\n",
        "\"\"\"\n",
        "# Check the response status code to make sure the login was successful\n",
        "if email!=\"\" and passwort!=\"\":\n",
        "  # Set the URL of the login page\n",
        "  url = \"https://digi4school.at/br/xhr/login\"\n",
        "\n",
        "\n",
        "  # Set the login credentials\n",
        "  payload = {\n",
        "      \"email\": email,\n",
        "      \"password\": passwort\n",
        "  }\n",
        "\n",
        "  # Send a POST request to the login page with the credentials\n",
        "  response = requests.post(url, data=payload, headers=headers)\n",
        "\n",
        "  if response.status_code == 200:\n",
        "      print(\"Login successful!\")\n",
        "      # Get the cookies from the response\n",
        "      global cookies\n",
        "      cookies = response.cookies\n",
        "  else:\n",
        "      print(\"Login failed.\")\n",
        "\"\"\"\n",
        "\n",
        "# Replace this with the names of the SVG images you want to convert\n",
        "image_names = []\n",
        "\n",
        "\n",
        "response = requests.get(ebook_url, cookies=cookie)\n",
        "html_soup = BeautifulSoup(response.text, 'html.parser')\n",
        "\n",
        "title_tag = html_soup.find('title')\n",
        "title_text = title_tag.string\n",
        "title = title_text.strip()\n",
        "for page in range(5000):\n",
        "  strpage=str(page+1)\n",
        "  # Replace this with the URL of the website you want to scrape\n",
        "  url = ebook_url+strpage+\"/\"+strpage+\".svg\"\n",
        "\n",
        "  # Send the request and get the page as a string\n",
        "  response = requests.get(url, cookies=cookie)\n",
        "  output.clear()\n",
        "  print(title,\"\\nAuf Seite \"+strpage)\n",
        "  time.sleep(1.5)\n",
        "\n",
        "\n",
        "  # Check the response status code to make sure the request was successful\n",
        "  if response.status_code == 200:\n",
        "      image_names.append(strpage+\".svg\")\n",
        "      # Save the SVG image file to your computer\n",
        "      with open(strpage+\".svg\", \"wb\") as f:\n",
        "          f.write(response.content)\n",
        "  else:\n",
        "    strpage=str(page+1)\n",
        "  # Replace this with the URL of the website you want to scrape\n",
        "    url = ebook_url+strpage+\".svg\"\n",
        "\n",
        "  # Send the request and get the page as a string\n",
        "    response = requests.get(url, cookies=cookie)\n",
        "    time.sleep(2)\n",
        "\n",
        "  # Check the response status code to make sure the request was successful\n",
        "    if response.status_code == 200:\n",
        "        image_names.append(strpage+\".svg\")\n",
        "        # Save the SVG image file to your computer\n",
        "        with open(strpage+\".svg\", \"wb\") as f:\n",
        "            f.write(response.content)\n",
        "    else:\n",
        "      print(\"Finished or Failed to download a SVG image. Response status code:\", response.status_code)\n",
        "      break\n",
        "      \n",
        "\n",
        "#create png from svg\n",
        "for image in image_names:\n",
        "  drawing = svg2rlg(image)\n",
        "  renderPDF.drawToFile(drawing, image.replace(\".svg\",\".pdf\"))\n",
        "\n",
        "# Create an instance of the PdfFileMerger class\n",
        "merger = PdfFileMerger()\n",
        "\n",
        "# Iterate over the PDF files\n",
        "for image in image_names:\n",
        "  # Open the PDF file\n",
        "  with open(image.replace(\".svg\",\".pdf\"), \"rb\") as f:\n",
        "    # Add the PDF file to the merger\n",
        "    merger.append(f)\n",
        "\n",
        "# Save the merged PDF file\n",
        "with open(\"/content/drive/MyDrive/\"+title+\".pdf\", \"wb\") as f:\n",
        "  merger.write(f)\n",
        "\n",
        "#delete png\n",
        "for image in image_names:\n",
        "  os.remove(image.replace(\".svg\",\".pdf\"))\n",
        "\n",
        "#delete svg\n",
        "for image in image_names:\n",
        "  os.remove(image)\n",
        "\n",
        "print(\"Finished\")\n",
        "\n",
        "print(\"auf deinem Drive als: \"+title+\".pdf\")"
      ],
      "metadata": {
        "id": "viHZXuf2VkRT",
        "colab": {
          "base_uri": "https://localhost:8080/",
          "height": 272
        },
        "outputId": "5be54fab-df28-4832-cbe9-af30faabe756"
      },
      "execution_count": null,
      "outputs": [
        {
          "output_type": "stream",
          "name": "stdout",
          "text": [
            "0394770101 \n",
            "Auf Seite 1\n"
          ]
        },
        {
          "output_type": "error",
          "ename": "KeyboardInterrupt",
          "evalue": "ignored",
          "traceback": [
            "\u001b[0;31m---------------------------------------------------------------------------\u001b[0m",
            "\u001b[0;31mKeyboardInterrupt\u001b[0m                         Traceback (most recent call last)",
            "\u001b[0;32m<ipython-input-6-e10078e2d020>\u001b[0m in \u001b[0;36m<module>\u001b[0;34m\u001b[0m\n\u001b[1;32m     89\u001b[0m   \u001b[0;31m# Send the request and get the page as a string\u001b[0m\u001b[0;34m\u001b[0m\u001b[0;34m\u001b[0m\u001b[0;34m\u001b[0m\u001b[0m\n\u001b[1;32m     90\u001b[0m     \u001b[0mresponse\u001b[0m \u001b[0;34m=\u001b[0m \u001b[0mrequests\u001b[0m\u001b[0;34m.\u001b[0m\u001b[0mget\u001b[0m\u001b[0;34m(\u001b[0m\u001b[0murl\u001b[0m\u001b[0;34m,\u001b[0m \u001b[0mcookies\u001b[0m\u001b[0;34m=\u001b[0m\u001b[0mcookie\u001b[0m\u001b[0;34m)\u001b[0m\u001b[0;34m\u001b[0m\u001b[0;34m\u001b[0m\u001b[0m\n\u001b[0;32m---> 91\u001b[0;31m     \u001b[0mtime\u001b[0m\u001b[0;34m.\u001b[0m\u001b[0msleep\u001b[0m\u001b[0;34m(\u001b[0m\u001b[0;36m2\u001b[0m\u001b[0;34m)\u001b[0m\u001b[0;34m\u001b[0m\u001b[0;34m\u001b[0m\u001b[0m\n\u001b[0m\u001b[1;32m     92\u001b[0m \u001b[0;34m\u001b[0m\u001b[0m\n\u001b[1;32m     93\u001b[0m   \u001b[0;31m# Check the response status code to make sure the request was successful\u001b[0m\u001b[0;34m\u001b[0m\u001b[0;34m\u001b[0m\u001b[0;34m\u001b[0m\u001b[0m\n",
            "\u001b[0;31mKeyboardInterrupt\u001b[0m: "
          ]
        }
      ]
    }
  ]
}